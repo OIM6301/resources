{
 "cells": [
  {
   "cell_type": "markdown",
   "metadata": {},
   "source": [
    "# Introduction to Python Programming\n",
    "\n",
    "**Problem solving** is one of the most important skills that everyone should learn and practice. Learning to program (especially using Python) is an excellent opportunity to develop and practice problem-solving skills.\n",
    "\n",
    "## What is a program?\n",
    "\n",
    "A **program** is a sequence of instructions that specifies how to perform a computation. The computation might be something mathematical, such as solving a system of equations or finding the roots of a polynomial. It can also be symbolic, such as searching and replacing text in a document, or graphical, like processing an image or playing a video.\n",
    "\n",
    "**Question**: What are the basic elements of a program?\n",
    "\n",
    "## Why Python?\n",
    "\n",
    "- Python is a general-purpose, high-level programming language designed by Guido van Rossum\n",
    "- Python is easy to learn with clear, readable syntax\n",
    "- Extensive ecosystem: thousands of libraries for web, data science, automation, AI, and more\n",
    "- Large, supportive community with excellent documentation\n",
    "- Used by companies like Google, Netflix, NASA, and many others\n",
    "\n",
    "## Python Installation\n",
    "\n",
    "### Option 1: Python.org (Traditional)\n",
    "Go to https://www.python.org/downloads/ and download Python 3.13. During installation, **check 'Add Python to PATH'**.\n",
    "\n",
    "### Option 2: Modern Tools (Recommended)\n",
    "Modern Python development often uses:\n",
    "- **VS Code** with Python extension (manages Python automatically)\n",
    "- **uv** - Fast Python package installer: https://github.com/astral-sh/uv\n",
    "- **Anaconda** - Good for data science: https://www.anaconda.com/\n",
    "\n",
    "### Verify Installation\n",
    "Open a terminal (Command Prompt on Windows, Terminal on Mac/Linux) and type:\n",
    "```\n",
    "python --version\n",
    "```\n",
    "You should see `Python 3.13.x`.\n",
    "\n",
    "\n",
    "### Working with Python: Three Approaches\n",
    "\n",
    "**1. Interactive Interpreter (REPL)**\n",
    "Type `python` in your terminal to start the **REPL** (Read-Eval-Print Loop). The interpreter reads your code, evaluates it, prints the result, and loops back. Great for quick experiments!\n",
    "\n",
    "**2. Script Files (.py)**\n",
    "Write Python code in `.py` files and run them with `python filename.py`. This is how you build real programs.\n",
    "\n",
    "**3. Jupyter Notebooks (What you're using now!)**\n",
    "Notebooks combine code, output, and documentation in one place. Perfect for learning, data analysis, and sharing results.\n",
    "\n",
    "### Using VS Code\n",
    "\n",
    "We recommend **Visual Studio Code** as your Python editor: https://code.visualstudio.com/\n",
    "\n",
    "Why VS Code?\n",
    "- **Syntax highlighting** makes code easier to read\n",
    "- **IntelliSense** provides code completion\n",
    "- **Integrated terminal** for running code\n",
    "- **Python extension** for debugging and testing\n",
    "- **Built-in Git** for version control\n",
    "- **Jupyter support** for notebooks\n",
    "\n",
    "Install the Python extension: https://marketplace.visualstudio.com/items?itemName=ms-python.python\n",
    "\n",
    "\n",
    "## Your First Python Program\n",
    "\n",
    "Before starting this journey, remember:\n",
    "\n",
    "**DO NOT copy/paste code. Type it out yourself!**\n",
    "\n",
    "Typing helps you learn syntax, catch errors, and build muscle memory.\n",
    "\n",
    "Traditionally, the first program in any language is \"Hello, World!\" - a simple program that displays text. In Python:"
   ]
  },
  {
   "cell_type": "code",
   "execution_count": null,
   "metadata": {},
   "outputs": [],
   "source": [
    "print('Hello, World')"
   ]
  },
  {
   "cell_type": "markdown",
   "metadata": {},
   "source": [
    "Congratulations! You just wrote your first Python program!\n",
    "\n",
    "This is an example of a **print statement**. The `print()` function displays output on the screen (it doesn't actually print on paper).\n",
    "\n",
    "**Key elements:**\n",
    "- `print` is a **function** - a reusable piece of code that performs an action\n",
    "- The **parentheses** `()` are required to call (execute) the function\n",
    "- The **quotation marks** `''` or `\"\"` define a **string** (text data)\n",
    "\n",
    "Let's try something different - basic arithmetic:"
   ]
  },
  {
   "cell_type": "code",
   "execution_count": null,
   "metadata": {},
   "outputs": [],
   "source": [
    "1 + 1  # In Jupyter/REPL, the result displays automatically"
   ]
  },
  {
   "cell_type": "code",
   "execution_count": null,
   "metadata": {},
   "outputs": [],
   "source": [
    "# exit() - This would close the Python interpreter\n",
    "# We don't need it in Jupyter notebooks!"
   ]
  },
  {
   "cell_type": "markdown",
   "metadata": {},
   "source": [
    "## Working with Script Files\n",
    "\n",
    "In Jupyter notebooks, you can run code immediately in cells. But for larger programs, you'll create **script files** with the `.py` extension.\n",
    "\n",
    "### Creating a Python Script\n",
    "\n",
    "**Naming convention**: Module names (filenames) should be short, lowercase, and can include underscores (e.g., `hello.py`, `my_calculator.py`).\n",
    "\n",
    "**Example**: Create a file called `hello.py` with this code (use your own name):"
   ]
  },
  {
   "cell_type": "code",
   "execution_count": null,
   "metadata": {},
   "outputs": [],
   "source": [
    "print('Hello, Zhi')"
   ]
  },
  {
   "cell_type": "markdown",
   "metadata": {},
   "source": [
    "Run the script from your terminal:\n",
    "\n",
    "**Windows**: `python hello.py`  \n",
    "**Mac/Linux**: `python3 hello.py` (or just `python` if configured)\n",
    "\n",
    "You should see: `Hello, Zhi`\n",
    "\n",
    "Now, remove or comment out the existing code and add the following code to `hello.py` to perform arithmetic:"
   ]
  },
  {
   "cell_type": "code",
   "execution_count": null,
   "metadata": {},
   "outputs": [],
   "source": [
    "39 + 41 + 33"
   ]
  },
  {
   "cell_type": "markdown",
   "metadata": {},
   "source": [
    "**Question**: What happens when you run `python hello.py`?\n",
    "\n",
    "**Answer**: Nothing displays! \n",
    "\n",
    "In script files, expressions are evaluated but not automatically printed. You need to explicitly use `print()` to see output."
   ]
  },
  {
   "cell_type": "markdown",
   "metadata": {},
   "source": [
    "Fix it by wrapping the expression in `print()`:"
   ]
  },
  {
   "cell_type": "code",
   "execution_count": null,
   "metadata": {},
   "outputs": [],
   "source": [
    "print(39 + 41 + 33)"
   ]
  },
  {
   "cell_type": "markdown",
   "metadata": {},
   "source": [
    "## Arithmetic Operators\n",
    "\n",
    "Python can be used as a calculator. Try these basic operators:"
   ]
  },
  {
   "cell_type": "code",
   "execution_count": null,
   "metadata": {},
   "outputs": [],
   "source": [
    "2025 - 2000  # Subtraction"
   ]
  },
  {
   "cell_type": "code",
   "execution_count": null,
   "metadata": {},
   "outputs": [],
   "source": [
    "15 * 3  # Multiplication"
   ]
  },
  {
   "cell_type": "code",
   "execution_count": null,
   "metadata": {},
   "outputs": [],
   "source": [
    "2 ** 6  # 2 to the power of 6"
   ]
  },
  {
   "cell_type": "markdown",
   "metadata": {},
   "source": [
    "The `/` operator always returns a float (5.0) even when dividing evenly:"
   ]
  },
  {
   "cell_type": "code",
   "execution_count": null,
   "metadata": {},
   "outputs": [],
   "source": [
    "15 / 3  # Returns 5.0, not 5"
   ]
  },
  {
   "cell_type": "markdown",
   "metadata": {},
   "source": [
    "### ***Exercise 01*** \n",
    "\n",
    "Experiment and learn from mistakes! Try these in Python:\n",
    "\n",
    "1. In a print statement, what happens if you leave out one of the parentheses, or both?\n",
    "2. If you are trying to print a string, what happens if you leave out one of the quotation marks, or both?\n",
    "3. You can use a minus sign to make a negative number like `-2`. What happens if you put a plus sign before a number? What about `2++2`?\n",
    "4. In math notation, leading zeros are ok, as in `02`. What happens if you try this in Python?\n",
    "5. What happens if you have two values with no operator between them?\n",
    "\n",
    "\n",
    "### ***Exercise 02***\n",
    "\n",
    "Use Python (in Jupyter notebook or REPL) to solve these problems:\n",
    "\n",
    "1. How many seconds are there in 42 minutes 42 seconds?\n",
    "2. How many miles are there in 10 kilometers? (Hint: 1 mile = 1.61 kilometers)\n",
    "3. If you run a 10 kilometer race in 42 minutes 42 seconds, what is your average pace (time per mile in minutes and seconds)? What is your average speed in miles per hour?"
   ]
  }
 ],
 "metadata": {
  "anaconda-cloud": {},
  "kernelspec": {
   "display_name": "Python 3",
   "language": "python",
   "name": "python3"
  },
  "language_info": {
   "codemirror_mode": {
    "name": "ipython",
    "version": 3
   },
   "file_extension": ".py",
   "mimetype": "text/x-python",
   "name": "python",
   "nbconvert_exporter": "python",
   "pygments_lexer": "ipython3",
   "version": "3.8.10"
  }
 },
 "nbformat": 4,
 "nbformat_minor": 4
}
