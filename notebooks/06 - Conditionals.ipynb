{
 "cells": [
  {
   "cell_type": "markdown",
   "metadata": {},
   "source": "# Conditionals\n\n\n## Conditional statements\n\nIn order to write useful programs, we almost always need the ability to check conditions and change the behavior of the program accordingly. **Conditional statements** give us this ability. \n\n\n![The Road Not Taken](less_traveled_by.png)"
  },
  {
   "cell_type": "code",
   "execution_count": null,
   "metadata": {},
   "outputs": [],
   "source": [
    "age = 20\n",
    "if age >= 18:\n",
    "    print(f'Your age is {age}.')\n",
    "    print('You are an adult.')"
   ]
  },
  {
   "cell_type": "markdown",
   "metadata": {},
   "source": [
    "The boolean expression after `if` is called the **condition**. If it is true, the indented statement runs. If not, nothing happens."
   ]
  },
  {
   "cell_type": "markdown",
   "metadata": {},
   "source": [
    "## Alternative execution"
   ]
  },
  {
   "cell_type": "code",
   "execution_count": null,
   "metadata": {},
   "outputs": [],
   "source": [
    "age = 3\n",
    "if age >= 18:\n",
    "    print(f'Your age is {age}.')\n",
    "    print('You are an adult.')\n",
    "else:  # don't forget this colon\n",
    "    print(f'Your age is {age}.')\n",
    "    print('You are a teenager.')"
   ]
  },
  {
   "cell_type": "markdown",
   "metadata": {},
   "source": [
    "## Chained conditionals\n",
    "\n",
    "`elif` is short for \"else if\". Let's see this example:"
   ]
  },
  {
   "cell_type": "code",
   "execution_count": null,
   "metadata": {},
   "outputs": [],
   "source": [
    "age = 3\n",
    "if age >= 18:\n",
    "    print('adult')\n",
    "elif age >= 6:\n",
    "    print('teenager')\n",
    "else:\n",
    "    print('kid')"
   ]
  },
  {
   "cell_type": "markdown",
   "metadata": {},
   "source": [
    "**Question**: What will be printed after executing the following code?"
   ]
  },
  {
   "cell_type": "code",
   "execution_count": null,
   "metadata": {},
   "outputs": [],
   "source": [
    "age = 20\n",
    "if age >= 6:\n",
    "    print('teenager')\n",
    "elif age >= 18:\n",
    "    print('adult')\n",
    "else:\n",
    "    print('kid')"
   ]
  },
  {
   "cell_type": "markdown",
   "metadata": {},
   "source": [
    "## Nested conditionals"
   ]
  },
  {
   "cell_type": "code",
   "execution_count": null,
   "metadata": {},
   "outputs": [],
   "source": [
    "x = 5\n",
    "y = 10\n",
    "\n",
    "if x == y:\n",
    "    print('x and y are equal')\n",
    "else:\n",
    "    if x < y:\n",
    "        print('x is less than y')\n",
    "    else:\n",
    "        print('x is greater than y')"
   ]
  },
  {
   "cell_type": "markdown",
   "metadata": {},
   "source": [
    "### ***Exercise 01***"
   ]
  },
  {
   "cell_type": "markdown",
   "metadata": {},
   "source": [
    "1\\. Fermat's Last Theorem says that there are no positive integers a, b, and c such that $a^n + b^n = c^n$ for any values of n greater than 2.\n",
    "\n",
    "1. Write a function named `check_fermat` that takes four parameters — `a`, `b`, `c` and `n` — and checks to see if Fermat's theorem holds. If n is greater than 2 and $a^n + b^n = c^n$, the program should print:\n",
    "    > \"Holy smokes, Fermat was wrong!\" \n",
    "    \n",
    "    Otherwise the program should print:\n",
    "    > \"No, that doesn't work.\"\n",
    "    \n",
    "2. Write another function that prompts the user to input values for `a`, `b`, `c` and `n`, converts them to integers, and uses `check_fermat` to check whether they violate Fermat's theorem."
   ]
  },
  {
   "cell_type": "markdown",
   "metadata": {},
   "source": [
    "\n",
    "2\\. Write a function `calculate_bmi` that takes two parameters, `weight` and `height`, to return BMI value. Write another function `get_bmi_category` that prompts the user to input values for `weight` and `height`, converts them to floats, uses `calculate_bmi` to calculate BMI value, and returns the corresponding BMI category.\n",
    "\n",
    "BMI Formula: $BMI = \\frac{weight(kg)}{height(m)^2}$\n",
    "\n",
    "BMI Categories: \n",
    "- Underweight: BMI < 18.5\n",
    "- Normal weight: 18.5 ≤ BMI < 25\n",
    "- Overweight: 25 ≤ BMI < 30\n",
    "- Obesity: BMI ≥ 30"
   ]
  },
  {
   "cell_type": "markdown",
   "metadata": {},
   "source": [
    "## Recursion\n",
    "\n",
    "It is legal for one function to call another; it is also legal for a function to call itself. It may not be obvious why that is a good thing, but it turns out to be one of the most magical things a program can do. For example, look at the following function:\n"
   ]
  },
  {
   "cell_type": "code",
   "execution_count": null,
   "metadata": {},
   "outputs": [],
   "source": [
    "def countdown(n):\n",
    "    if n <= 0:\n",
    "        print('Blastoff!')\n",
    "    else:\n",
    "        print(n)\n",
    "        countdown(n-1)"
   ]
  },
  {
   "cell_type": "markdown",
   "metadata": {},
   "source": [
    "**Question**: What happens if we call this function like this?"
   ]
  },
  {
   "cell_type": "code",
   "execution_count": null,
   "metadata": {},
   "outputs": [],
   "source": [
    "countdown(3)"
   ]
  },
  {
   "cell_type": "markdown",
   "metadata": {},
   "source": [
    "A function that calls itself is **recursive**; the process of executing it is called **recursion**.\n",
    "\n",
    "As another example, we can write a function that prints a string `n` times."
   ]
  },
  {
   "cell_type": "code",
   "execution_count": null,
   "metadata": {},
   "outputs": [],
   "source": [
    "def print_n(s, n):\n",
    "    if n <= 0:\n",
    "        return\n",
    "    print(s)\n",
    "    print_n(s, n-1)"
   ]
  },
  {
   "cell_type": "markdown",
   "metadata": {},
   "source": [
    "## Infinite recursion\n",
    "\n"
   ]
  },
  {
   "cell_type": "code",
   "execution_count": null,
   "metadata": {},
   "outputs": [],
   "source": [
    "def recurse():\n",
    "    recurse()"
   ]
  },
  {
   "cell_type": "markdown",
   "metadata": {},
   "source": [
    "If you encounter an infinite recursion by accident, review your function to confirm that there is a base case that does not make a recursive call. And if there is a base case, check whether you are guaranteed to reach it."
   ]
  },
  {
   "cell_type": "markdown",
   "metadata": {},
   "source": [
    "### ***Exercise 02***\n",
    "\n",
    "1\\. Write a program `factorial.py` to compute the factorial of an integer `n`.\n",
    "\n",
    "\n",
    "2\\. Write a program `fibonacci.py` to compute the Fibonacci number of an integer `n`."
   ]
  },
  {
   "cell_type": "markdown",
   "metadata": {},
   "source": [
    "3\\. The greatest common divisor (GCD) of two positive integers is the largest integer that divides each of them without remainder. For example:\n",
    "\n",
    "    gcd(2, 12) = 2\n",
    "    gcd(6, 12) = 6\n",
    "    gcd(9, 12) = 3\n",
    "    gcd(17, 12) = 1\n",
    "\n",
    "See this website for an example of Euclid's algorithm being used to find the GCD: https://en.wikipedia.org/wiki/Euclidean_algorithm#Worked_example\n",
    "\n",
    "Write a program `greatest_common_divisor.py` to implement this algorithm recursively. The function `gcd()` takes in two positive integers and returns one integer."
   ]
  },
  {
   "cell_type": "markdown",
   "metadata": {},
   "source": [
    "4\\. (Optional) Implement recursive algorithm for the game: **Tower of Hanoi**. \n",
    "\n",
    "More about the game: https://www.mathsisfun.com/games/towerofhanoi.html"
   ]
  },
  {
   "cell_type": "code",
   "execution_count": null,
   "metadata": {},
   "outputs": [],
   "source": [
    "def move(n, source, bridge, destination):\n",
    "    pass  # modify this function\n",
    "\n",
    "\n",
    "move(3, 'A', 'B', 'C')\n",
    "# Expected output:\n",
    "# A --> C\n",
    "# A --> B\n",
    "# C --> B\n",
    "# A --> C\n",
    "# B --> A\n",
    "# B --> C\n",
    "# A --> C"
   ]
  },
  {
   "cell_type": "markdown",
   "metadata": {},
   "source": [
    "A visualized version of Tower of Hanoi code can be found [here](https://github.com/asweigart/recursion_examples/blob/master/towersOfHanoi.py). "
   ]
  }
 ],
 "metadata": {
  "anaconda-cloud": {},
  "kernelspec": {
   "display_name": "Python 3",
   "language": "python",
   "name": "python3"
  },
  "language_info": {
   "codemirror_mode": {
    "name": "ipython",
    "version": 3
   },
   "file_extension": ".py",
   "mimetype": "text/x-python",
   "name": "python",
   "nbconvert_exporter": "python",
   "pygments_lexer": "ipython3",
   "version": "3.8.10"
  }
 },
 "nbformat": 4,
 "nbformat_minor": 4
}